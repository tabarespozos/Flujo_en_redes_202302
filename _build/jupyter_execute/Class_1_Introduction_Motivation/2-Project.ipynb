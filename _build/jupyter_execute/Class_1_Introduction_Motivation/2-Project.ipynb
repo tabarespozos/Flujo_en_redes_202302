{
 "cells": [
  {
   "cell_type": "markdown",
   "id": "5b552080",
   "metadata": {},
   "source": [
    "## **Lectura 2: Proyecto del semestre**"
   ]
  },
  {
   "cell_type": "markdown",
   "id": "e2c86a91",
   "metadata": {},
   "source": [
    "## **Resolver el problema de reconfiguración de redes de distribución de energia eléctrica (RSD)**"
   ]
  },
  {
   "cell_type": "markdown",
   "id": "c63fd7b0",
   "metadata": {},
   "source": [
    "## **Introducción**\n",
    "\n",
    "\n",
    "- Los Sistemas de Distribución de Energia Eléctrica (SDEE) se planifican como redes malladas interconectadas.\n",
    "- Sin embargo, funcionan con una topología o configuración radial:\n",
    "    - Para facilitar la coordinación de las protecciones, y\n",
    "    - Para reducir la corriente de cortocircuito de las SDEE.\n",
    "- Para obtener una topología radial existen interruptores de interconexión (abiertos y/o cerrados) en puntos estratégicos del sistema.\n",
    "- Así, la topología inicial puede modificarse accionando los interruptores para transferir las demandas entre los distintos alimentadores.\n",
    "- La nueva topología tiene otro punto de operación y debe seguir siendo radial.\n",
    "- El problema de reconfiguración del sistema de distribución (DSR) consiste en abrir y/o cerrar interruptores con el objetivo de mejorar un índice de rendimiento.\n",
    "- La reconfiguración óptima es una herramienta importante para aumentar la fiabilidad de los SDEE:\n",
    "    - especialmente cuando la automatización avanzada y las tecnologías de redes inteligentes adquieren mayor importancia y se vuelven más accesibles para los servicios públicos de distribución."
   ]
  },
  {
   "cell_type": "markdown",
   "id": "0050889e",
   "metadata": {},
   "source": [
    "![](../Images/33-bus_system.png)"
   ]
  },
  {
   "cell_type": "markdown",
   "id": "bc2b750d",
   "metadata": {},
   "source": [
    "## **Modelo matemático General**\n",
    "\n",
    "- **Variables de control (continuas y/o enteras)**:\n",
    "    - estado de funcionamiento de los interruptores de interconexión (abierto o cerrado).\n",
    "\n",
    "- **Función objetivo:**\n",
    "    - minimizar las pérdidas de potencia activa;\n",
    "    - minimizar la desviación de la magnitud de tensión; o\n",
    "    - Aislar los fallos.\n",
    "\n",
    "- Matemáticamente, el problema RSD es un problema programación no lineal entero mixto (PNLEM).\n",
    "\n",
    "- El tamaño del problema de reconfiguración está directamente asociado al número de **interruptores de interconexión** (IC) presentes en el sistema.\n",
    "\n",
    "- Si un sistema tiene $C$ conmutadores, el número de topologías posibles para el sistema es del orden de $2C$.\n",
    "\n",
    "- La mayoría de estas topologías no son prácticas, porque no satisfacen la restricción de radialidad o tienen nodos desconectados."
   ]
  },
  {
   "cell_type": "markdown",
   "id": "d9b4ab9f",
   "metadata": {},
   "source": [
    "![](../Images/mod_reconfi.png)"
   ]
  },
  {
   "cell_type": "markdown",
   "id": "1725af44",
   "metadata": {},
   "source": [
    "Arriba se encuentra un modelo de operación de las llaves de interconexión entre los nodos $i$ y $j$ \n",
    "\n",
    "La variable entera $y_{ij}$ representa el estado de operación de la llave de interconexión entre los nodos $i$ y $j$.\n",
    "- $y_{ij} = 1$ si la llave de interconexión entre los nodos $i$ y $j$ está abierta\n",
    "- $y_{ij} = 0$ si la llave de interconexión entre los nodos $i$ y $j$ está cerrada\n",
    "\n",
    "- La variable continua $P_{ij}$ representa el flujo de potencia activa entre los nodos $i$ y $j$.\n",
    "- La variable continua $Q_{ij}$ representa el flujo de potencia reactiva entre los nodos $i$ y $j$.\n",
    "- La variable continua $P_{ij}$ representa el flujo de corriente entre los nodos $i$ y $j$.\n",
    "- La variable continua $V_{i}$ representa el voltaje en el nodo $i$.\n",
    "- Los parametros $P_{i}^{D}$ y $Q_{i}^{D}$ representan la demanda de potencia activa y reactiva en el nodo $i$.\n",
    "- Los parametros $R_{ij}$ y $X_{ij}$ representan la resistencia y reactancia de la linea entre los nodos $i$ y $j$.\n",
    "\n"
   ]
  },
  {
   "cell_type": "markdown",
   "id": "c7d535e2",
   "metadata": {},
   "source": [
    "## **Modelo Matemático inicial**\n",
    "\n",
    "- **Objetivo:** minimizar el costo de las pérdidas de potencia activa en el sistema.\n",
    "\n",
    "$$\n",
    "Min \\sum\\limits_{ij \\in {B}}\\sum\\limits_{t \\in {T}} {{R_{ij}}I_{ij,t}^{sqr}};\n",
    "$$\n",
    "\n",
    "- **Restricciones:** equilibrio de potencia activa y reactiva, límite de magnitud de tensión, límite de corriente en los circuitos, funcionamiento radial del SDE.\n",
    "$$\n",
    "\\sum\\limits_{ki \\in {B}} {{P_{ki,t}}}   - \\sum\\limits_{ij \\in {B}} {\\left( {{P_{ij,t}} + {R_{ij}}I_{ij,t}^{sqr}} \\right)} + P_{i,t}^S = P_{i,t}^D;\\forall i \\in {N},  \\forall t \\in {T}\n",
    "$$\n",
    "\n",
    "$$\n",
    "\\sum\\limits_{ki \\in {B}} {{Q_{ki,t}}}   - \\sum\\limits_{ij \\in {B}} {\\left( {{Q_{ij,t}} + {X_{ij}}I_{ij,t}^{sqr}} \\right)}  + Q_{i,t}^S= Q_{i,t}^D;\\forall i \\in {N},    \\forall t \\in {T}\n",
    "$$ \n",
    "\n",
    "$$\n",
    "{V_{i,t}^{sqr} = V_{j,t}^{sqr} + 2\\left( {{R_{ij}}{P_{ij,t}} + {X_{ij}}{Q_{ij,t}}} \\right)}- Z_{ij}^2{I_{ij,t}^{sqr}} + \\Delta_{ij,t}^{V}; \\forall ij \\in {B},  \\forall  t \\in {T}\n",
    "$$\n",
    "\n",
    "$$\n",
    "- {b^V}( {1 - {y_{ij,t}^B}}) \\le \\Delta _{ij,t}^V \\le {b^V}( {1 -  {y_{ij,t}^B}});\\forall ij \\in B,\\forall t \\in T\n",
    "$$\n",
    "\n",
    "$$\n",
    "V_{j,t}^{sqr} I_{ij,t}^{sqr} = P_{ij,t}^2 +  Q_{ij,t}^2;\\forall ij \\in {B},  \\forall  t \\in T\n",
    "$$\n",
    "\n",
    "$$\n",
    "{ {\\underline V }^2} \\le V_{i,t}^{sqr} \\le {\\overline V }^2;\\forall i \\in N,\\forall t \\in T\n",
    "$$\n",
    "\n",
    "$$\n",
    "0 \\le I_{ij,t}^{sqr} \\le \\overline I_{ij}^2 y_{ij,t}^B;\\forall ij \\in {B}, \\forall t \\in {T}\n",
    "$$\n",
    "- **Variables:** estado de funcionamiento de los interruptores de interconexión.\n",
    "\n",
    "$$\n",
    "y_{ij,t}^B \\in \\left\\{ {0,1} \\right\\};\\forall ij \\in {B}, \\forall t \\in {T}\n",
    "$$"
   ]
  },
  {
   "cell_type": "markdown",
   "id": "9411bcac",
   "metadata": {},
   "source": [
    "## **Restricción de radialidad**\n",
    "\n",
    "- La representación de un SDEE se realiza mediante nodos y circuitos.\n",
    "\n",
    "- Analizando la teoría de grafos, un SDEE puede considerarse como un grafo formado por , arcos y - nodos.\n",
    "\n",
    "- Desde la teoría de grafos, un árbol es un grafo conexo sin ciclos, por lo que es posible comparar la topología radial de un SDEE con un árbol.\n",
    "\n",
    "- Como se muestra en (M. S. Bazaraa, 1990), el árbol de un grafo es un subgrafo conexo con $(m - 1)$ arcos.\n",
    "\n",
    "- Así, se puede decir que la topología de un SDEE con $N$ nodos es radial si satisface las dos condiciones siguientes:\n",
    "    - Condición 1: la solución debe presentar $(N - 1)$ circuitos.\n",
    "    - Condición 2: la solución debe generar una topología conexa.\n",
    "\n",
    "\n",
    "- Obsérvese que las restricciones de radialidad deben estar formadas por la Condición 1 y la Condición 2.\n",
    "\n",
    "- **Sólo la condición 1 no garantiza la radialidad del SDEE.**\n"
   ]
  },
  {
   "cell_type": "markdown",
   "id": "acbacb0a",
   "metadata": {},
   "source": [
    "** Consecuencia en el problema de reconfiguración**\n",
    "\n",
    "- El problema RSD cumple las siguientes características:\n",
    "\n",
    "1. En el SDEE sólo existe una única subestación (nodo subestación) ;\n",
    "\n",
    "2. Todos los demás nodos son nodos de carga;\n",
    "\n",
    "3. Debe cumplirse la primera ley de Kirchhoff, y\n",
    "\n",
    "4. el objetivo es encontrar la mejor topología radial.\n"
   ]
  },
  {
   "cell_type": "markdown",
   "id": "37700d11",
   "metadata": {},
   "source": [
    "**La condición 1** se cumple mediante la siguiente restricción:\n",
    "\n",
    "$$\n",
    "\n",
    "\\sum_{ij \\in B}{ y_{ij,t}^B} = |N| - 1\n",
    "\n",
    "$$"
   ]
  },
  {
   "cell_type": "markdown",
   "id": "c2eb2a41",
   "metadata": {},
   "source": [
    "- Una solución que satisfaga la restricción de equilibrio de potencia (primera ley de Kirchhoff) tiene que proporcionar la potencia demandada en cada nodo de carga.\n",
    "\n",
    "- Por tanto, existe un camino entre la subestación y los nodos de carga. Por lo tanto, cada nodo está conectado con la subestación, formando un grafo conectado, **lo que demuestra la condición 2**.\n",
    "\n",
    "- Así, cuando las restricciones de equilibrio de potencia se combinan con la **condición 1**, cada nodo de carga está conectado por un único camino con la subestación, es decir, el SDEE está conectado, sin mallas."
   ]
  },
  {
   "cell_type": "markdown",
   "id": "e83403e9",
   "metadata": {},
   "source": [
    "### **Generalización de la restricción de radialidad** \n",
    "\n",
    "**Más de una subestación:**\n",
    "\n",
    "- Este caso aparece con frecuencia en diversos problemas de optimización de SDEE.\n",
    "- Por lo tanto, la condición 1 debe modificarse por:\n",
    "\n",
    "$$\n",
    "\n",
    "\\sum_{ij \\in B}{ y_{ij,t}^B} = |N|- |N_{sub}|\n",
    "\n",
    "$$\n",
    "\n",
    "En el que $|N_{sub}|$ es el numero total de subestaciones en el SDEE. \n",
    "\n",
    "La restricción anterior más las restricciones de equilibrio de potencia garantizan que deben construirse circuitos $|N|- |N_{sub}|$ para alimentar los nodos de carga $|N|- |N_{sub}|$ y que deben construirse $|N_{sub}|$ topologias radiales en la solución final. \n"
   ]
  },
  {
   "cell_type": "markdown",
   "id": "bd0a1b01",
   "metadata": {},
   "source": [
    "**Nodos de transferencia:**\n",
    "\n",
    "- Un nodo de transferencia es simplemente un nodo sin generación ni demanda.\n",
    "- Los nodos de transferencia no son tan frecuentes en un SDEE, se utilizan para conectar un nodo de carga con otros nodos de carga.\n",
    "- Un nodo de transferencia no es un nodo terminal (ésta es la condición principal sobre el uso de nodos de transferencia); por lo tanto, hay al menos dos circuitos más que \"salen\" del nodo de transferencia.\n",
    "- Por otro lado, si se sabe que todos los nodos de transferencia forman parte de la topología radial SDEE, un método sencillo consiste en suponer un valor de carga pequeño (por ejemplo, 0,001 kW) en todos los nodos de transferencia para garantizar que todos los nodos están conectados."
   ]
  }
 ],
 "metadata": {
  "kernelspec": {
   "display_name": "base",
   "language": "python",
   "name": "python3"
  },
  "language_info": {
   "codemirror_mode": {
    "name": "ipython",
    "version": 3
   },
   "file_extension": ".py",
   "mimetype": "text/x-python",
   "name": "python",
   "nbconvert_exporter": "python",
   "pygments_lexer": "ipython3",
   "version": "3.9.13"
  }
 },
 "nbformat": 4,
 "nbformat_minor": 5
}