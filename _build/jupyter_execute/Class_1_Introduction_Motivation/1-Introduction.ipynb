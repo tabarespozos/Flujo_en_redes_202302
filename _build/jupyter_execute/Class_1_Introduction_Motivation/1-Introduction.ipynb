{
 "cells": [
  {
   "cell_type": "markdown",
   "metadata": {},
   "source": [
    "## **Lectura 1: Flujo en redes** "
   ]
  },
  {
   "cell_type": "markdown",
   "metadata": {},
   "source": [
    "\n",
    "![](../Images/motivation.png)\n"
   ]
  },
  {
   "cell_type": "markdown",
   "metadata": {},
   "source": [
    "# **Introducción a la optimización en redes**\n",
    "\n",
    "La optimización en redes es un caso particular de programación lineal  que se ocupa del diseño de redes que minimizan o maximizan alguna función objetivo.\n",
    "\n",
    " Los problemas de optimización en redes se encuentran en una amplia variedad de aplicaciones, incluyendo la gestión de inventarios, la planificación del transporte y la distribución de energía.\n",
    "\n",
    "*Un problema de optimización en redes se caracteriza por un conjunto de nodos, un conjunto de arcos que conectan los nodos y un conjunto de restricciones*. Las restricciones pueden ser restricciones de capacidad, restricciones de tiempo o restricciones de costo. El objetivo del problema es encontrar una asignación de flujo a los arcos que satisfaga las restricciones y que minimice o maximice la función objetivo.\n",
    "\n",
    "Hay una variedad de algoritmos que se pueden utilizar para resolver problemas de optimización en redes. Los algoritmos más comunes son el algoritmo de Ford-Fulkerson, el algoritmo de Dinic y el algoritmo de Push-Relabel.\n"
   ]
  },
  {
   "cell_type": "markdown",
   "metadata": {},
   "source": [
    "![](../Images/opti.png)"
   ]
  },
  {
   "cell_type": "markdown",
   "metadata": {},
   "source": [
    "\n",
    "## **Problemas clásicos de flujo de redes**\n",
    "\n",
    "Los problemas de flujo de redes son un tipo de problema de programación lineal que se utilizan para modelar y resolver una amplia variedad de problemas del mundo real, como el transporte de bienes, el flujo de información y la asignación de recursos.\n",
    "\n",
    "Un problema de flujo de redes se puede definir como un conjunto de nodos y arcos, donde cada arco tiene una capacidad asociada. El objetivo es encontrar una asignación de flujo a los arcos que satisfaga ciertas restricciones, como la conservación del flujo y la capacidad máxima de los arcos.\n",
    "\n",
    "\n",
    "Algunos de los problemas de flujo de redes más comunes son:\n",
    "\n",
    "- *Problema de la ruta mas corta*: El problema de la ruta más corta es encontrar la ruta más corta entre dos nodos. En un sentido mas amplio responde a la pregunta de cual es la mejor forma de recorrer una red yendo desde un nodo inicial a un nodo final\n",
    "\n",
    "- *Problema del flujo máximo*: El problema del flujo máximo es encontrar una asignación de flujo a los arcos que maximice el flujo de un nodo a otro respetando la capacidad de los arcos.\n",
    "\n",
    "- *Problema del flujo mínimo*: El problema del flujo mínimo es encontrar una asignación de flujo a los arcos que minimice el flujo de un nodo a otro.\n",
    "\n",
    "- *Problema del flujo con costo mínimo*: Considerando que es conocido el custo por unidad eel flujo que pasa en cada arco de la red, que los arcos pueden ser capacitados, y que se requiere enviar unidades de flujo localizados en ciertos nodos (oferta o producción) para otros nodos (demanda o consumo), el problema trata de encontrar una asignación de flujo a los arcos que minimice el costo de transportar un bien de un nodo a otro.\n"
   ]
  },
  {
   "cell_type": "markdown",
   "metadata": {},
   "source": [
    "\n",
    "## **Algoritmos para resolver problemas de flujo de redes**\n",
    "\n",
    "Hay una variedad de algoritmos que se pueden utilizar para resolver problemas de optimización en redes. Los algoritmos más comunes son:\n",
    "\n",
    "- Algoritmo de Ford-Fulkerson: El algoritmo de Ford-Fulkerson es un algoritmo iterativo que se utiliza para encontrar el flujo máximo en una red.\n",
    "- Algoritmo de Dinic: El algoritmo de Dinic es un algoritmo más eficiente que el algoritmo de Ford-Fulkerson.\n",
    "- Algoritmo de Push-Relabel: El algoritmo de Push-Relabel es un algoritmo más eficiente que el algoritmo de Ford-Fulkerson y el algoritmo de Dinic.\n",
    "\n",
    "## **Ejemplos de problemas de flujo de redes**\n",
    "\n",
    "A continuación se presentan algunos ejemplos de problemas de flujo de redes que se han resuelto utilizando los algoritmos que discutimos anteriormente:\n",
    "\n",
    "- *Problema de gestión de inventarios*: Una empresa tiene tres almacenes y dos tiendas. Los almacenes almacenan diferentes productos y las tiendas venden diferentes productos. La empresa quiere encontrar una asignación de flujo a los almacenes y las tiendas que minimice el costo de transportar los productos de los almacenes a las tiendas.\n",
    "\n",
    "- *Problema de planificación del transporte*: Una empresa tiene tres fábricas y cuatro almacenes. Las fábricas producen diferentes productos y los almacenes almacenan diferentes productos. La empresa quiere encontrar una asignación de flujo a las fábricas y los almacenes que minimice el costo de transportar los productos de las fábricas a los almacenes.\n",
    "\n",
    "- *Problema de distribución de energía*: Una empresa tiene tres plantas de energía y cuatro ciudades. Las plantas de energía generan electricidad y las ciudades consumen electricidad. La empresa quiere encontrar una asignación de flujo a las plantas de energía y las ciudades que minimice el costo de transportar la electricidad de las plantas de energía a las ciudades."
   ]
  },
  {
   "cell_type": "markdown",
   "metadata": {},
   "source": [
    "----\n",
    "----"
   ]
  },
  {
   "cell_type": "markdown",
   "metadata": {},
   "source": [
    "## **Ejemplo práctico**\n",
    "---\n",
    "\n",
    "**Contexto**: Imagina que eres el encargado de logística de una empresa distribuidora de agua que suministra a una ciudad. La ciudad tiene varios distritos que están conectados por una serie de tuberías. Estas tuberías tienen capacidades diferentes, y necesitas garantizar que el agua llegue a todos los distritos de manera eficiente. \n",
    "\n",
    "La fuente del agua es un gran embalse (denominado \"s\" en nuestro modelo) y hay un distrito principal al que se debe suministrar una gran cantidad de agua (denominado \"t\"). Sin embargo, el agua no puede ser enviada directamente desde el embalse al distrito principal. En lugar de eso, debe pasar a través de varios distritos intermedios (denominados \"a\", \"b\" y \"c\" en nuestro modelo) que tienen sus propias necesidades y que también deben ser abastecidos.\n",
    "\n",
    "Tu objetivo es determinar cómo debe fluir el agua a través de esta red de tuberías para maximizar la cantidad de agua que llega al distrito principal, garantizando al mismo tiempo que cada distrito intermedio reciba su suministro adecuado.\n",
    "\n",
    "---\n",
    "\n",
    "Con este contexto en mente, el código que iremos a ver intenta modelar este escenario: \n",
    "\n",
    "- Los nodos representan el embalse, los distritos intermedios y el distrito principal.\n",
    "- Los bordes (o arcos) representan las tuberías que conectan estos lugares, y el peso de cada borde representa la capacidad máxima de cada tubería.\n",
    "\n",
    "Al resolver el problema de flujo máximo, estás encontrando la mejor manera de distribuir el agua desde el embalse a través de los distritos intermedios para finalmente llegar al distrito principal, maximizando la cantidad entregada a este último sin violar las restricciones de capacidad de las tuberías.\n",
    "\n",
    "El flujo en cada borde (tubería) que el modelo proporciona al final indica cuánta agua debería ser enviada a través de cada tubería para lograr este objetivo.\n",
    "\n",
    "---\n",
    "\n",
    "**Nota**: El problema de flujo máximo es un problema de optimización que se puede resolver con el algoritmo de Ford-Fulkerson. Este algoritmo no se implementa en NetworkX, pero se puede encontrar en otros paquetes de Python, como [NetworkX](https://networkx.org/documentation/stable/reference/algorithms/generated/networkx.algorithms.flow.maximum_flow.html). Para más información con relación al paquete de optimización pulp, puedes consultar la [documentación](https://coin-or.github.io/pulp/main/index.html). \n"
   ]
  },
  {
   "cell_type": "code",
   "execution_count": 1,
   "metadata": {},
   "outputs": [
    {
     "ename": "ModuleNotFoundError",
     "evalue": "No module named 'networkx'",
     "output_type": "error",
     "traceback": [
      "\u001b[1;31m---------------------------------------------------------------------------\u001b[0m",
      "\u001b[1;31mModuleNotFoundError\u001b[0m                       Traceback (most recent call last)",
      "Cell \u001b[1;32mIn[1], line 2\u001b[0m\n\u001b[0;32m      1\u001b[0m \u001b[38;5;66;03m# Importamos las bibliotecas necesarias\u001b[39;00m\n\u001b[1;32m----> 2\u001b[0m \u001b[38;5;28;01mimport\u001b[39;00m \u001b[38;5;21;01mnetworkx\u001b[39;00m \u001b[38;5;28;01mas\u001b[39;00m \u001b[38;5;21;01mnx\u001b[39;00m\n\u001b[0;32m      3\u001b[0m \u001b[38;5;28;01mimport\u001b[39;00m \u001b[38;5;21;01mmatplotlib\u001b[39;00m\u001b[38;5;21;01m.\u001b[39;00m\u001b[38;5;21;01mpyplot\u001b[39;00m \u001b[38;5;28;01mas\u001b[39;00m \u001b[38;5;21;01mplt\u001b[39;00m\n\u001b[0;32m      4\u001b[0m \u001b[38;5;28;01mfrom\u001b[39;00m \u001b[38;5;21;01mpulp\u001b[39;00m \u001b[38;5;28;01mimport\u001b[39;00m LpMaximize, LpProblem, LpVariable, lpSum, value\n",
      "\u001b[1;31mModuleNotFoundError\u001b[0m: No module named 'networkx'"
     ]
    }
   ],
   "source": [
    "# Importamos las bibliotecas necesarias\n",
    "import networkx as nx\n",
    "import matplotlib.pyplot as plt\n",
    "from pulp import LpMaximize, LpProblem, LpVariable, lpSum, value\n",
    "\n",
    "# Creamos un gráfico dirigido\n",
    "G = nx.DiGraph()\n",
    "\n",
    "# Nombres descriptivos para los nodos\n",
    "nodes_map = {'s': 'Embalse', 'a': 'Distrito A', 'b': 'Distrito B', 'c': 'Distrito C', 't': 'Distrito Principal'}\n",
    "\n",
    "# Añadimos los bordes al gráfico junto con sus capacidades (representando las tuberías)\n",
    "edges = [('s', 'a', 16), ('s', 'b', 13), ('a', 'b', 10), ('a', 't', 12), ('b', 'a', 4), ('b', 'c', 14), ('c', 't', 20), ('c', 'b', 9)]\n",
    "G.add_weighted_edges_from(edges)\n",
    "\n",
    "# Creamos un diseño de red personalizado para representar mejor el flujo\n",
    "pos = {node: coord for node, coord in zip(['s', 'a', 'b', 'c', 't'], [[0, 1], [1, 2], [1, 0], [2, 1], [3, 1]])}\n",
    "\n",
    "# Visualizamos la red\n",
    "plt.figure(figsize=(12, 8))\n",
    "edge_labels = {(u, v): w['weight'] for u, v, w in G.edges(data=True)}\n",
    "nx.draw_networkx_edge_labels(G, pos, edge_labels=edge_labels)\n",
    "nx.draw(G, pos, with_labels=True, labels=nodes_map, node_size=3000, node_color=\"lightblue\", edge_color=\"gray\", font_size=15, width=2)\n",
    "plt.title(\"Red de Distribución de Agua\")\n",
    "plt.show()\n"
   ]
  },
  {
   "cell_type": "code",
   "execution_count": 18,
   "metadata": {},
   "outputs": [
    {
     "data": {
      "text/plain": [
       "1"
      ]
     },
     "execution_count": 18,
     "metadata": {},
     "output_type": "execute_result"
    }
   ],
   "source": [
    "\n",
    "# --- Modelamos el problema de flujo máximo ---\n",
    "\n",
    "# Creamos el problema de optimización\n",
    "prob = LpProblem(\"MaxFlowProblem\", LpMaximize)\n",
    "\n",
    "# Creamos las variables de flujo para cada borde\n",
    "flow = {}\n",
    "for u, v, w in G.edges(data=True):\n",
    "    flow[(u, v)] = LpVariable(f\"flow_{u}_{v}\", 0, w['weight'])\n",
    "\n",
    "# Objetivo: Maximizar el flujo hacia el Distrito Principal\n",
    "prob += lpSum([flow[(u, 't')] for u in G.predecessors('t')]), \"Maximize Flow to Main District\"\n",
    "\n",
    "# Restricciones de conservación de flujo\n",
    "for node in G.nodes():\n",
    "    total_flow_in = lpSum([flow[(u, node)] for u in G.predecessors(node)])\n",
    "    total_flow_out = lpSum([flow[(node, v)] for v in G.successors(node)])\n",
    "    \n",
    "    if node == 's':  # Embalse\n",
    "        prob += total_flow_out == total_flow_in + sum([flow[('s', v)] for v in G.successors('s')])\n",
    "    elif node == 't':  # Distrito Principal\n",
    "        prob += total_flow_in == total_flow_out + sum([flow[(u, 't')] for u in G.predecessors('t')])\n",
    "    else:  # Distritos intermedios\n",
    "        prob += total_flow_in == total_flow_out\n",
    "\n",
    "# Resolvemos el problema\n",
    "prob.solve()\n"
   ]
  },
  {
   "cell_type": "code",
   "execution_count": 19,
   "metadata": {},
   "outputs": [
    {
     "name": "stdout",
     "output_type": "stream",
     "text": [
      "Flujo de agua optimizado:\n",
      "\n",
      "Flujo máximo hacia el Distrito Principal: 26.0 unidades\n",
      "Flujo desde Embalse hacia Distrito A: 13.0 unidades\n",
      "Flujo desde Embalse hacia Distrito B: 13.0 unidades\n",
      "Flujo desde Distrito A hacia Distrito B: 1.0 unidades\n",
      "Flujo desde Distrito A hacia Distrito Principal: 12.0 unidades\n",
      "Flujo desde Distrito B hacia Distrito A: 0.0 unidades\n",
      "Flujo desde Distrito B hacia Distrito C: 14.0 unidades\n",
      "Flujo desde Distrito C hacia Distrito Principal: 14.0 unidades\n",
      "Flujo desde Distrito C hacia Distrito B: 0.0 unidades\n"
     ]
    }
   ],
   "source": [
    "\n",
    "# --- Resultados ---\n",
    "\n",
    "print(\"Flujo de agua optimizado:\\n\")\n",
    "print(f\"Flujo máximo hacia el {nodes_map['t']}: {value(prob.objective)} unidades\")\n",
    "for u, v in G.edges():\n",
    "    print(f\"Flujo desde {nodes_map[u]} hacia {nodes_map[v]}: {flow[(u, v)].varValue} unidades\")\n"
   ]
  }
 ],
 "metadata": {
  "kernelspec": {
   "display_name": "Python 3",
   "language": "python",
   "name": "python3"
  },
  "language_info": {
   "codemirror_mode": {
    "name": "ipython",
    "version": 3
   },
   "file_extension": ".py",
   "mimetype": "text/x-python",
   "name": "python",
   "nbconvert_exporter": "python",
   "pygments_lexer": "ipython3",
   "version": "3.11.4"
  },
  "widgets": {
   "application/vnd.jupyter.widget-state+json": {
    "state": {},
    "version_major": 2,
    "version_minor": 0
   }
  }
 },
 "nbformat": 4,
 "nbformat_minor": 4
}