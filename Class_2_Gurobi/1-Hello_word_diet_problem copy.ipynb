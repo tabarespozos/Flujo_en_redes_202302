{
 "cells": [
  {
   "cell_type": "code",
   "execution_count": 1,
   "metadata": {},
   "outputs": [],
   "source": [
    "from gurobipy import * "
   ]
  },
  {
   "cell_type": "code",
   "execution_count": 2,
   "metadata": {},
   "outputs": [
    {
     "name": "stdout",
     "output_type": "stream",
     "text": [
      "Restricted license - for non-production use only - expires 2024-10-28\n"
     ]
    }
   ],
   "source": [
    " # Crear modelo\n",
    "\n",
    "modelo= Model(\"Hello model\")\n"
   ]
  },
  {
   "cell_type": "code",
   "execution_count": 5,
   "metadata": {},
   "outputs": [
    {
     "ename": "TypeError",
     "evalue": "setMObjective() takes at least 4 positional arguments (3 given)",
     "output_type": "error",
     "traceback": [
      "\u001b[1;31m---------------------------------------------------------------------------\u001b[0m",
      "\u001b[1;31mTypeError\u001b[0m                                 Traceback (most recent call last)",
      "Cell \u001b[1;32mIn[5], line 11\u001b[0m\n\u001b[0;32m      7\u001b[0m y \u001b[39m=\u001b[39m modelo\u001b[39m.\u001b[39maddVar(vtype\u001b[39m=\u001b[39mGRB\u001b[39m.\u001b[39mCONTINUOUS, name\u001b[39m=\u001b[39m\u001b[39m\"\u001b[39m\u001b[39my\u001b[39m\u001b[39m\"\u001b[39m)\n\u001b[0;32m      9\u001b[0m \u001b[39m#  Funcion objetivo \u001b[39;00m\n\u001b[1;32m---> 11\u001b[0m modelo\u001b[39m.\u001b[39;49msetMObjective(\u001b[39m3\u001b[39;49m\u001b[39m*\u001b[39;49mx \u001b[39m+\u001b[39;49m \u001b[39m4\u001b[39;49m\u001b[39m*\u001b[39;49my, GRB\u001b[39m.\u001b[39;49mMAXIMIZE)\n\u001b[0;32m     13\u001b[0m \u001b[39m# Restricciones \u001b[39;00m\n\u001b[0;32m     15\u001b[0m modelo\u001b[39m.\u001b[39maddConstr( x \u001b[39m+\u001b[39m \u001b[39m2\u001b[39m\u001b[39m*\u001b[39my \u001b[39m<\u001b[39m\u001b[39m=\u001b[39m \u001b[39m8\u001b[39m, \u001b[39m\"\u001b[39m\u001b[39mRestricción 1\u001b[39m\u001b[39m\"\u001b[39m)\n",
      "File \u001b[1;32msrc\\gurobipy\\model.pxi:4133\u001b[0m, in \u001b[0;36mgurobipy.Model.setMObjective\u001b[1;34m()\u001b[0m\n",
      "\u001b[1;31mTypeError\u001b[0m: setMObjective() takes at least 4 positional arguments (3 given)"
     ]
    }
   ],
   "source": [
    "# Modelo explicito \n",
    "\n",
    "# Variable \n",
    "\n",
    "x = modelo.addVar(vtype=GRB.CONTINUOUS, name=\"x\")\n",
    "\n",
    "y = modelo.addVar(vtype=GRB.CONTINUOUS, name=\"y\")\n",
    "\n",
    "#  Funcion objetivo \n",
    "\n",
    "modelo.setMObjective(3*x + 4*y, GRB.MAXIMIZE)\n",
    "\n",
    "# Restricciones \n",
    "\n",
    "modelo.addConstr( x + 2*y <= 8, \"Restricción 1\")\n",
    "\n",
    "modelo.addConstr( x + 2*y <= 8, \"Restricción 2\")\n",
    "\n",
    "# Resuelve el modelo \n",
    "\n",
    "modelo.optimize()"
   ]
  }
 ],
 "metadata": {
  "kernelspec": {
   "display_name": "base",
   "language": "python",
   "name": "python3"
  },
  "language_info": {
   "codemirror_mode": {
    "name": "ipython",
    "version": 3
   },
   "file_extension": ".py",
   "mimetype": "text/x-python",
   "name": "python",
   "nbconvert_exporter": "python",
   "pygments_lexer": "ipython3",
   "version": "3.9.13"
  }
 },
 "nbformat": 4,
 "nbformat_minor": 0
}
