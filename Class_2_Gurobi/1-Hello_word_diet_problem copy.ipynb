{
 "cells": [
  {
   "cell_type": "code",
   "execution_count": 83,
   "metadata": {},
   "outputs": [],
   "source": [
    "from gurobipy import * "
   ]
  },
  {
   "cell_type": "code",
   "execution_count": 84,
   "metadata": {},
   "outputs": [],
   "source": [
    " # Crear modelo\n",
    "\n",
    "modelo= Model(\"Hello model\")\n"
   ]
  },
  {
   "cell_type": "code",
   "execution_count": 85,
   "metadata": {},
   "outputs": [
    {
     "name": "stdout",
     "output_type": "stream",
     "text": [
      "Gurobi Optimizer version 10.0.2 build v10.0.2rc0 (win64)\n",
      "\n",
      "CPU model: 12th Gen Intel(R) Core(TM) i7-1265U, instruction set [SSE2|AVX|AVX2]\n",
      "Thread count: 10 physical cores, 12 logical processors, using up to 12 threads\n",
      "\n",
      "Optimize a model with 2 rows, 2 columns and 4 nonzeros\n",
      "Model fingerprint: 0x98e9963f\n",
      "Coefficient statistics:\n",
      "  Matrix range     [1e+00, 3e+00]\n",
      "  Objective range  [3e+00, 4e+00]\n",
      "  Bounds range     [0e+00, 0e+00]\n",
      "  RHS range        [8e+00, 1e+01]\n",
      "Presolve time: 0.01s\n",
      "Presolved: 2 rows, 2 columns, 4 nonzeros\n",
      "\n",
      "Iteration    Objective       Primal Inf.    Dual Inf.      Time\n",
      "       0    7.0000000e+30   2.750000e+30   7.000000e+00      0s\n",
      "       2    1.8000000e+01   0.000000e+00   0.000000e+00      0s\n",
      "\n",
      "Solved in 2 iterations and 0.01 seconds (0.00 work units)\n",
      "Optimal objective  1.800000000e+01\n"
     ]
    }
   ],
   "source": [
    "# Modelo explicito \n",
    "\n",
    "# Variable \n",
    "\n",
    "x = modelo.addVar(vtype=GRB.CONTINUOUS, name=\"x\")\n",
    "\n",
    "y = modelo.addVar(vtype=GRB.CONTINUOUS, name=\"y\")\n",
    "\n",
    "#  Funcion objetivo \n",
    "\n",
    "modelo.setObjective(3*x + 4*y, GRB.MAXIMIZE)\n",
    "\n",
    "# Restricciones \n",
    "\n",
    "modelo.addConstr( x + 2*y <= 8, \"Restricción 1\")\n",
    "\n",
    "modelo.addConstr( 3*x + 2*y <= 12, \"Restricción 2\")\n",
    "\n",
    "# Resuelve el modelo \n",
    "\n",
    "modelo.optimize()"
   ]
  },
  {
   "cell_type": "code",
   "execution_count": 86,
   "metadata": {},
   "outputs": [
    {
     "data": {
      "text/plain": [
       "gurobipy.Var"
      ]
     },
     "execution_count": 86,
     "metadata": {},
     "output_type": "execute_result"
    }
   ],
   "source": [
    "type(x)"
   ]
  },
  {
   "cell_type": "code",
   "execution_count": 87,
   "metadata": {},
   "outputs": [
    {
     "name": "stdout",
     "output_type": "stream",
     "text": [
      "x 2\n",
      "y 3\n"
     ]
    }
   ],
   "source": [
    "# Imprimir las soluciones \n",
    "for v in modelo.getVars():\n",
    "    print('%s %g' % (v.varName, v.x))"
   ]
  },
  {
   "cell_type": "code",
   "execution_count": 88,
   "metadata": {},
   "outputs": [
    {
     "name": "stdout",
     "output_type": "stream",
     "text": [
      "Objetivo: 18\n"
     ]
    }
   ],
   "source": [
    "print('Objetivo: %g' % modelo.objVal)"
   ]
  },
  {
   "cell_type": "markdown",
   "metadata": {},
   "source": [
    "## Problema de la dieta"
   ]
  },
  {
   "cell_type": "code",
   "execution_count": 89,
   "metadata": {},
   "outputs": [],
   "source": [
    "M_dieta= Model(\"modelo dieta\")\n",
    "\n",
    "# Variables \n",
    "n=5\n",
    "x = {}\n",
    "for i in range(1,n+1):\n",
    "    x[i] = M_dieta.addVar(lb=0, ub=GRB.INFINITY, vtype=GRB.CONTINUOUS, name=f'x{i}')\n"
   ]
  },
  {
   "cell_type": "code",
   "execution_count": 90,
   "metadata": {},
   "outputs": [],
   "source": [
    "\n",
    "FO = M_dieta.setObjective( 20*x[1] + 10*x[2]+ 31*x[3] + 11*x[4] + 11*x[5])"
   ]
  },
  {
   "cell_type": "code",
   "execution_count": 91,
   "metadata": {},
   "outputs": [],
   "source": [
    "hierro_constr = M_dieta.addConstr(2*x[1] + 3*x[3] + x[4] + 2*x[5] >= 21, name='Hierro')\n",
    "\n",
    "calcio_constr = M_dieta.addConstr(x[2] + 2*x[3] + 2*x[4] + x[5] >= 12, name='Calcio')\n",
    "\n",
    "M_dieta.update()"
   ]
  },
  {
   "cell_type": "code",
   "execution_count": 92,
   "metadata": {},
   "outputs": [],
   "source": [
    "M_dieta.write('Dieta.lp')"
   ]
  },
  {
   "cell_type": "code",
   "execution_count": 93,
   "metadata": {},
   "outputs": [
    {
     "name": "stdout",
     "output_type": "stream",
     "text": [
      "\\ Model modelo dieta\n",
      "\\ LP format - for model browsing. Use MPS format to capture full model detail.\n",
      "Minimize\n",
      "  20 x1 + 10 x2 + 31 x3 + 11 x4 + 11 x5\n",
      "Subject To\n",
      " Hierro: 2 x1 + 3 x3 + x4 + 2 x5 >= 21\n",
      " Calcio: x2 + 2 x3 + 2 x4 + x5 >= 12\n",
      "Bounds\n",
      "End\n"
     ]
    }
   ],
   "source": [
    "!more Dieta.lp"
   ]
  },
  {
   "cell_type": "code",
   "execution_count": 94,
   "metadata": {},
   "outputs": [
    {
     "name": "stdout",
     "output_type": "stream",
     "text": [
      "Gurobi Optimizer version 10.0.2 build v10.0.2rc0 (win64)\n",
      "\n",
      "CPU model: 12th Gen Intel(R) Core(TM) i7-1265U, instruction set [SSE2|AVX|AVX2]\n",
      "Thread count: 10 physical cores, 12 logical processors, using up to 12 threads\n",
      "\n",
      "Optimize a model with 2 rows, 5 columns and 8 nonzeros\n",
      "Model fingerprint: 0x02f91a25\n",
      "Coefficient statistics:\n",
      "  Matrix range     [1e+00, 3e+00]\n",
      "  Objective range  [1e+01, 3e+01]\n",
      "  Bounds range     [0e+00, 0e+00]\n",
      "  RHS range        [1e+01, 2e+01]\n",
      "Presolve removed 0 rows and 3 columns\n",
      "Presolve time: 0.01s\n",
      "Presolved: 2 rows, 2 columns, 4 nonzeros\n",
      "\n",
      "Iteration    Objective       Primal Inf.    Dual Inf.      Time\n",
      "       0    0.0000000e+00   1.650000e+01   0.000000e+00      0s\n",
      "       2    1.2100000e+02   0.000000e+00   0.000000e+00      0s\n",
      "\n",
      "Solved in 2 iterations and 0.02 seconds (0.00 work units)\n",
      "Optimal objective  1.210000000e+02\n"
     ]
    }
   ],
   "source": [
    "M_dieta.optimize()"
   ]
  },
  {
   "cell_type": "code",
   "execution_count": 95,
   "metadata": {},
   "outputs": [
    {
     "name": "stdout",
     "output_type": "stream",
     "text": [
      "x1 0 12.6667\n",
      "x2 0 6.33333\n",
      "x3 0 12.6667\n",
      "x4 1 0\n",
      "x5 10 0\n"
     ]
    }
   ],
   "source": [
    "# Imprimir las soluciones \n",
    "for v in M_dieta.getVars():\n",
    "    print('%s %g %g' % (v.varName, v.x, v.RC))"
   ]
  },
  {
   "cell_type": "code",
   "execution_count": 96,
   "metadata": {},
   "outputs": [
    {
     "name": "stdout",
     "output_type": "stream",
     "text": [
      "121.0\n"
     ]
    }
   ],
   "source": [
    "print(M_dieta.ObjVal)"
   ]
  },
  {
   "cell_type": "code",
   "execution_count": 97,
   "metadata": {},
   "outputs": [
    {
     "name": "stdout",
     "output_type": "stream",
     "text": [
      "Hierro 0 3.66667\n",
      "Calcio 0 3.66667\n"
     ]
    }
   ],
   "source": [
    "# Imprimir las restricciones \n",
    "for w in M_dieta.getConstrs():\n",
    "    print('%s %g %g' % (w.ConstrName, w.Slack, w.Pi))"
   ]
  },
  {
   "cell_type": "code",
   "execution_count": 98,
   "metadata": {},
   "outputs": [],
   "source": [
    "FO_vieja= M_dieta.ObjVal\n",
    "\n",
    "hierro_constr.RHS=22"
   ]
  },
  {
   "cell_type": "code",
   "execution_count": 99,
   "metadata": {},
   "outputs": [
    {
     "name": "stdout",
     "output_type": "stream",
     "text": [
      "Gurobi Optimizer version 10.0.2 build v10.0.2rc0 (win64)\n",
      "\n",
      "CPU model: 12th Gen Intel(R) Core(TM) i7-1265U, instruction set [SSE2|AVX|AVX2]\n",
      "Thread count: 10 physical cores, 12 logical processors, using up to 12 threads\n",
      "\n",
      "Optimize a model with 2 rows, 5 columns and 8 nonzeros\n",
      "Coefficient statistics:\n",
      "  Matrix range     [1e+00, 3e+00]\n",
      "  Objective range  [1e+01, 3e+01]\n",
      "  Bounds range     [0e+00, 0e+00]\n",
      "  RHS range        [1e+01, 2e+01]\n",
      "Iteration    Objective       Primal Inf.    Dual Inf.      Time\n",
      "       0    1.2466667e+02   0.000000e+00   0.000000e+00      0s\n",
      "\n",
      "Solved in 0 iterations and 0.01 seconds (0.00 work units)\n",
      "Optimal objective  1.246666667e+02\n"
     ]
    }
   ],
   "source": [
    "M_dieta.optimize()"
   ]
  },
  {
   "cell_type": "code",
   "execution_count": 100,
   "metadata": {},
   "outputs": [
    {
     "name": "stdout",
     "output_type": "stream",
     "text": [
      "x1 0 12.6667\n",
      "x2 0 6.33333\n",
      "x3 0 12.6667\n",
      "x4 0.666667 0\n",
      "x5 10.6667 0\n"
     ]
    }
   ],
   "source": [
    "# Imprimir las soluciones \n",
    "for v in M_dieta.getVars():\n",
    "    print('%s %g %g' % (v.varName, v.x, v.RC))"
   ]
  },
  {
   "cell_type": "code",
   "execution_count": 101,
   "metadata": {},
   "outputs": [
    {
     "data": {
      "text/plain": [
       "3.666666666666657"
      ]
     },
     "execution_count": 101,
     "metadata": {},
     "output_type": "execute_result"
    }
   ],
   "source": [
    "M_dieta.ObjVal - FO_vieja"
   ]
  },
  {
   "cell_type": "markdown",
   "metadata": {},
   "source": [
    "**Formulación implicita**\n"
   ]
  },
  {
   "cell_type": "code",
   "execution_count": 102,
   "metadata": {},
   "outputs": [],
   "source": [
    "# Conjuntos \n",
    "\n",
    "R = ['Carlos', 'Joe','Monika']\n",
    "J = ['Tester', 'JavaDev', 'Arquitecto']\n",
    "K = [(r, j) for r in R for j in J]\n",
    "\n",
    "Scores =[ 53, 27, 13, 80, 47, 67, 53, 73, 47]\n",
    "\n",
    "# Parámetros\n",
    "\n",
    "score_dict = {k: score for k, score in zip(K, Scores)}\n",
    "\n",
    "# Modelo \n",
    "\n",
    "Modelo = Model('asignación')\n",
    "\n"
   ]
  },
  {
   "cell_type": "code",
   "execution_count": 103,
   "metadata": {},
   "outputs": [],
   "source": [
    "# Variables \n",
    "\n",
    "x = Modelo.addVars(K,vtype =GRB.CONTINUOUS, name ='asign')"
   ]
  },
  {
   "cell_type": "code",
   "execution_count": 104,
   "metadata": {},
   "outputs": [
    {
     "name": "stdout",
     "output_type": "stream",
     "text": [
      "\u001b[1;31mSignature:\u001b[0m      \u001b[0mModel\u001b[0m\u001b[1;33m.\u001b[0m\u001b[0maddVars\u001b[0m\u001b[1;33m(\u001b[0m\u001b[0mself\u001b[0m\u001b[1;33m,\u001b[0m \u001b[1;33m*\u001b[0m\u001b[0mindexes\u001b[0m\u001b[1;33m,\u001b[0m \u001b[1;33m**\u001b[0m\u001b[0mkwargs\u001b[0m\u001b[1;33m)\u001b[0m\u001b[1;33m\u001b[0m\u001b[1;33m\u001b[0m\u001b[0m\n",
      "\u001b[1;31mCall signature:\u001b[0m \u001b[0mModel\u001b[0m\u001b[1;33m.\u001b[0m\u001b[0maddVars\u001b[0m\u001b[1;33m(\u001b[0m\u001b[1;33m*\u001b[0m\u001b[0margs\u001b[0m\u001b[1;33m,\u001b[0m \u001b[1;33m**\u001b[0m\u001b[0mkwargs\u001b[0m\u001b[1;33m)\u001b[0m\u001b[1;33m\u001b[0m\u001b[1;33m\u001b[0m\u001b[0m\n",
      "\u001b[1;31mType:\u001b[0m           cython_function_or_method\n",
      "\u001b[1;31mString form:\u001b[0m    <cyfunction Model.addVars at 0x000001DAB42EB380>\n",
      "\u001b[1;31mDocstring:\u001b[0m     \n",
      "addVars(*indexes, lb=0.0, ub=GRB.INFINITY, obj=0.0, vtype=GRB.CONTINUOUS,\n",
      "           name=\"\")\n",
      "\n",
      "Add variables in bulk, given one or more lists or integers that serve as\n",
      "indexes for the variables.  Returns a dictionary of Var objects, indexed by\n",
      "the values (or tuples of values) from the index set.\n",
      "\n",
      "The optional parameters (lb, ub, obj, vtype, name) work similar\n",
      "to the addVar() method, with the following exceptions:\n",
      "1. The parameter name is required (ex: vtype=GRB.BINARY)\n",
      "2. You can specify the value as a scalar, a list or a dictionary.  For a scalar,\n",
      "   the value will be used for all variables; for a list, the values must be\n",
      "   in the same order as the index set; for a dictionary, they must be indexed\n",
      "   by the variable index.\n",
      "3. If you specify a scalar string for name, the variable name will be\n",
      "   subscripted automatically."
     ]
    }
   ],
   "source": [
    "?Model.addVars"
   ]
  },
  {
   "cell_type": "code",
   "execution_count": 105,
   "metadata": {},
   "outputs": [],
   "source": [
    "# Restricciones\n",
    "\n",
    "for j in J:\n",
    "    Modelo.addConstr(quicksum(x[r,j] for r in R)== 1, name =f'trabajo{j}')\n",
    "\n",
    "for r in R: \n",
    "    Modelo.addConstr(quicksum(x[r,j] for j in J) == 1, name = f'recurso{r}')\n"
   ]
  },
  {
   "cell_type": "code",
   "execution_count": 106,
   "metadata": {},
   "outputs": [],
   "source": [
    "# Función Objetivo \n",
    "Modelo.setObjective(quicksum(score_dict[r, j] * x[r, j] for (r,j) in K), GRB.MAXIMIZE)\n"
   ]
  },
  {
   "cell_type": "code",
   "execution_count": 107,
   "metadata": {},
   "outputs": [
    {
     "name": "stdout",
     "output_type": "stream",
     "text": [
      "Gurobi Optimizer version 10.0.2 build v10.0.2rc0 (win64)\n",
      "\n",
      "CPU model: 12th Gen Intel(R) Core(TM) i7-1265U, instruction set [SSE2|AVX|AVX2]\n",
      "Thread count: 10 physical cores, 12 logical processors, using up to 12 threads\n",
      "\n",
      "Optimize a model with 6 rows, 9 columns and 18 nonzeros\n",
      "Model fingerprint: 0x4c93045b\n",
      "Coefficient statistics:\n",
      "  Matrix range     [1e+00, 1e+00]\n",
      "  Objective range  [1e+01, 8e+01]\n",
      "  Bounds range     [0e+00, 0e+00]\n",
      "  RHS range        [1e+00, 1e+00]\n",
      "Presolve time: 0.01s\n",
      "Presolved: 6 rows, 9 columns, 18 nonzeros\n",
      "\n",
      "Iteration    Objective       Primal Inf.    Dual Inf.      Time\n",
      "       0    4.6000000e+32   1.800000e+31   4.600000e+02      0s\n",
      "       4    1.9300000e+02   0.000000e+00   0.000000e+00      0s\n",
      "\n",
      "Solved in 4 iterations and 0.02 seconds (0.00 work units)\n",
      "Optimal objective  1.930000000e+02\n"
     ]
    }
   ],
   "source": [
    "Modelo.optimize()"
   ]
  },
  {
   "cell_type": "code",
   "execution_count": 108,
   "metadata": {},
   "outputs": [
    {
     "name": "stdout",
     "output_type": "stream",
     "text": [
      "asign[Carlos,Tester] 1.0\n",
      "asign[Joe,Arquitecto] 1.0\n",
      "asign[Monika,JavaDev] 1.0\n",
      "Total matching score:  193.0\n"
     ]
    }
   ],
   "source": [
    "# Visulizar la solución del problema de asignación de tareas\n",
    "for v in Modelo.getVars():\n",
    "    if v.x > 1e-6:\n",
    "        print(v.varName, v.x)\n",
    "\n",
    "# Visulizar el valor de la función objetivo\n",
    "print('Total matching score: ', Modelo.objVal)"
   ]
  }
 ],
 "metadata": {
  "kernelspec": {
   "display_name": "base",
   "language": "python",
   "name": "python3"
  },
  "language_info": {
   "codemirror_mode": {
    "name": "ipython",
    "version": 3
   },
   "file_extension": ".py",
   "mimetype": "text/x-python",
   "name": "python",
   "nbconvert_exporter": "python",
   "pygments_lexer": "ipython3",
   "version": "3.9.13"
  }
 },
 "nbformat": 4,
 "nbformat_minor": 0
}
