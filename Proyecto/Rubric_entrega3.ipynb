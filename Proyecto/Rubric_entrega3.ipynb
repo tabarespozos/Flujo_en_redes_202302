{
 "cells": [
  {
   "cell_type": "markdown",
   "metadata": {},
   "source": [
    "\n",
    "**Rúbrica: Modelo Matemático e Implementación en Sistemas de Prueba**\n",
    "\n"
   ]
  },
  {
   "cell_type": "markdown",
   "metadata": {},
   "source": [
    "\n",
    "\n",
    "**1. Claridad y Completitud del Modelo Matemático (20 Puntos)**\n",
    "\n",
    "- **(0-5 puntos)**: Modelo mal definido, faltan componentes clave o no está claramente expuesto.\n",
    "- **(6-10 puntos)**: Modelo presentado con algunos detalles, pero podría carecer de claridad o omitir aspectos importantes.\n",
    "- **(11-15 puntos)**: Modelo bien definido con la mayoría de los componentes esenciales presentados de manera clara.\n",
    "- **(16-20 puntos)**: Modelo expuesto con claridad y profundidad, abordando todos los aspectos y detalles importantes.\n",
    "\n",
    "\n",
    "\n",
    "**2. Validación y Robustez del Modelo (20 Puntos)**\n",
    "\n",
    "- **(0-5 puntos)**: No hay validación o pruebas presentadas. El modelo no demuestra robustez.\n",
    "- **(6-10 puntos)**: Algunas pruebas realizadas, pero carecen de rigor o de cobertura completa.\n",
    "- **(11-15 puntos)**: Modelo validado contra múltiples escenarios, con algunas limitaciones menores.\n",
    "- **(16-20 puntos)**: Modelo rigurosamente validado y demostrado como robusto en una variedad de escenarios.\n",
    "\n",
    "\n",
    "\n",
    "**3. Implementación en Sistemas de Prueba (20 Puntos)**\n",
    "\n",
    "- **(0-5 puntos)**: Implementación deficiente, con errores o no se aplica a sistemas de prueba.\n",
    "- **(6-10 puntos)**: Implementación en al menos un sistema de prueba, pero carece de profundidad o tiene problemas menores.\n",
    "- **(11-15 puntos)**: Implementación en al menos dos sistemas de prueba con resultados razonables, pero puede haber pequeñas inconsistencias.\n",
    "- **(16-20 puntos)**: Implementación meticulosa en al menos dos sistemas de prueba, demostrando la efectividad del modelo.\n",
    "\n",
    "\n",
    "\n",
    "**4. Uso del Lenguaje Algebraico (20 Puntos)**\n",
    "\n",
    "- **(0-5 puntos)**: Uso incorrecto o ineficiente del lenguaje algebraico. Falta de comprensión clara.\n",
    "- **(6-10 puntos)**: Uso básico del lenguaje algebraico con algunas ineficiencias o errores.\n",
    "- **(11-15 puntos)**: Uso competente del lenguaje algebraico con implementación efectiva y eficiente.\n",
    "- **(16-20 puntos)**: Uso experto y eficiente del lenguaje algebraico, aprovechando al máximo sus características y herramientas.\n",
    "\n",
    "\n",
    "\n",
    "**5. Resultados y Análisis (10 Puntos)**\n",
    "\n",
    "- **(0-2 puntos)**: Falta de resultados o análisis, o estos son irrelevantes.\n",
    "- **(3-5 puntos)**: Resultados presentados pero con análisis superficial o sin interpretación clara.\n",
    "- **(6-8 puntos)**: Resultados claros presentados con análisis adecuado, pero podría carecer de profundidad o perspicacia.\n",
    "- **(9-10 puntos)**: Resultados meticulosamente presentados y analizados con profundidad y claridad.\n",
    "\n",
    "\n",
    "\n",
    "**6. Gramática, Ortografía y Estilo de Escritura (10 Puntos)**\n",
    "\n",
    "- **(0-2 puntos)**: Múltiples errores que distraen del contenido. Estilo de escritura difícil de seguir.\n",
    "- **(3-5 puntos)**: Algunos errores en gramática y ortografía. Estilo claro pero con espacio para mejora.\n",
    "- **(6-8 puntos)**: Pocos errores gramaticales y ortográficos. Estilo claro y conciso.\n",
    "- **(9-10 puntos)**: Prácticamente sin errores. Estilo de escritura atractivo, claro y conciso.\n",
    "\n",
    "---\n",
    "\n",
    "**Puntaje Total: 100 Puntos**\n",
    "\n",
    "Dos entregables: \n",
    "\n",
    "1. Documento escrito en word preferiblemente, o en pdf.\n",
    "2. Notebook de jupyter con el código u otro medio que permita la reproducción de los resultados. Recomendable que se use github para ir dejando documentado todo el proceso."
   ]
  }
 ],
 "metadata": {
  "kernelspec": {
   "display_name": "Python 3",
   "language": "python",
   "name": "python3"
  },
  "language_info": {
   "codemirror_mode": {
    "name": "ipython",
    "version": 3
   },
   "file_extension": ".py",
   "mimetype": "text/x-python",
   "name": "python",
   "nbconvert_exporter": "python",
   "pygments_lexer": "ipython3",
   "version": "3.9.13"
  },
  "widgets": {
   "application/vnd.jupyter.widget-state+json": {
    "state": {},
    "version_major": 2,
    "version_minor": 0
   }
  }
 },
 "nbformat": 4,
 "nbformat_minor": 4
}
